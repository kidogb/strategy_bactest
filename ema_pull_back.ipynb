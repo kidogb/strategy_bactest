{
 "cells": [
  {
   "cell_type": "code",
   "execution_count": 2,
   "metadata": {},
   "outputs": [],
   "source": [
    "import pandas as pd\n",
    "import talib\n",
    "import matplotlib.pyplot as plt\n",
    "import matplotlib.dates as mpl_dates\n",
    "from mplfinance.original_flavor import candlestick_ohlc\n",
    "from tqdm import tqdm"
   ]
  },
  {
   "cell_type": "code",
   "execution_count": 19,
   "outputs": [],
   "source": [
    "data_df = pd.read_csv('data/XBTUSD-1h-data.csv')"
   ],
   "metadata": {
    "collapsed": false,
    "pycharm": {
     "name": "#%%\n"
    }
   }
  },
  {
   "cell_type": "code",
   "execution_count": 4,
   "metadata": {},
   "outputs": [
    {
     "name": "stdout",
     "output_type": "stream",
     "text": [
      "0        2017-06-01 00:00:00+00:00\n",
      "1        2017-06-01 01:00:00+00:00\n",
      "2        2017-06-01 02:00:00+00:00\n",
      "3        2017-06-01 03:00:00+00:00\n",
      "4        2017-06-01 04:00:00+00:00\n",
      "                   ...            \n",
      "32957    2021-03-05 05:00:00+00:00\n",
      "32958    2021-03-05 06:00:00+00:00\n",
      "32959    2021-03-05 07:00:00+00:00\n",
      "32960    2021-03-05 08:00:00+00:00\n",
      "32961    2021-03-05 09:00:00+00:00\n",
      "Name: timestamp, Length: 32962, dtype: object\n"
     ]
    }
   ],
   "source": [
    "print(data_df['timestamp'])"
   ]
  },
  {
   "cell_type": "code",
   "execution_count": null,
   "metadata": {
    "pycharm": {
     "is_executing": true
    }
   },
   "outputs": [],
   "source": [
    "def transform_candle(data, ratio):\n",
    "    \"\"\"\n",
    "    convert from small candle size to large candle size.\n",
    "    :param data: data frame of small candle\n",
    "    :param ratio: ratio = large_candle_size/small_candle_size. Ex, 5m => 1d, ratio = 1440/5 = 288. Must be int type\n",
    "    :return: new data frame of large candle size\n",
    "    \"\"\"\n",
    "    if type(ratio) is not int:\n",
    "        raise Exception('ratio is not valid type. Need to {int} type')\n",
    "    # if ratio == 1:\n",
    "    #     return data\n",
    "    converted_data = []\n",
    "    if data.shape[0] >= ratio:\n",
    "        for i in range(0, data.shape[0] - (ratio - 1), ratio):\n",
    "            high = data[i:i + ratio]['high'].max()\n",
    "            low = data[i:i + ratio]['low'].min()\n",
    "            # volume = data[i:i + ratio]['volume'].sum()\n",
    "            converted_data.append({\n",
    "                'timestamp': data.iloc[i + (ratio - 1)]['timestamp'],\n",
    "                'open': data.iloc[i]['open'],\n",
    "                'high': high,\n",
    "                'low': low,\n",
    "                'close': data.iloc[i + (ratio - 1)]['close'],\n",
    "                # 'volume': volume\n",
    "            })\n",
    "    else:\n",
    "        raise Exception('Too few small candles')\n",
    "    return pd.DataFrame(converted_data)"
   ]
  },
  {
   "cell_type": "code",
   "execution_count": 5,
   "metadata": {},
   "outputs": [],
   "source": [
    "def find_best_ma(data, max_ema=200):\n",
    "    loss = float('inf')\n",
    "    ema_no = max_ema\n",
    "    rate = 1\n",
    "    value = None\n",
    "    for i in range(10, max_ema+1):\n",
    "        ema = talib.EMA(data['close'], timeperiod=i) # it start index from 3, dont know why\n",
    "        ema_df = pd.DataFrame({\"ema\": ema}).reset_index()\n",
    "        joined_data = data.join(ema_df[\"ema\"])\n",
    "        #         high_d = joined_data[joined_data['high'] >= joined_data['ema']]\n",
    "        #         low_d = joined_data[joined_data['low'] ]\n",
    "        medium_d = joined_data[\n",
    "            (joined_data['high'] >= joined_data['ema']) & (joined_data['low'] <= joined_data['ema'])]\n",
    "        cross_short_df = medium_d[(medium_d['open'] > medium_d['ema']) & (medium_d['close'] < medium_d['ema'])]\n",
    "        cross_long_df = medium_d[(medium_d['close'] > medium_d['ema']) & (medium_d['open'] < medium_d['ema'])]\n",
    "        temp_loss = abs((joined_data['low'] - joined_data['ema']).sum())\n",
    "        temp_rate = (cross_long_df.shape[0] + cross_short_df.shape[0]) / data.shape[0]\n",
    "        loss = min(loss, temp_loss)\n",
    "        if loss == temp_loss:\n",
    "            ema_no = i\n",
    "            rate = temp_rate\n",
    "            value = ema_df['ema']\n",
    "    return {'number': ema_no, 'rate': rate, 'value': value, 'loss': loss}"
   ]
  },
  {
   "cell_type": "code",
   "execution_count": 108,
   "metadata": {},
   "outputs": [
    {
     "name": "stdout",
     "output_type": "stream",
     "text": [
      "CPU times: user 1.19 s, sys: 9.97 ms, total: 1.2 s\n",
      "Wall time: 1.3 s\n"
     ]
    },
    {
     "data": {
      "text/plain": "{'number': 200,\n 'rate': 0.0,\n 'value': 0              NaN\n 1              NaN\n 2              NaN\n 3              NaN\n 4              NaN\n           ...     \n 395    2514.162035\n 396    2515.177338\n 397    2516.221345\n 398    2517.302724\n 399    2518.396230\n Name: ema, Length: 400, dtype: float64,\n 'loss': 0.0}"
     },
     "execution_count": 108,
     "metadata": {},
     "output_type": "execute_result"
    }
   ],
   "source": [
    "%%time\n",
    "find_best_ma(data_df[400:800])"
   ]
  },
  {
   "cell_type": "code",
   "execution_count": 6,
   "metadata": {
    "pycharm": {
     "name": "#%%\n"
    }
   },
   "outputs": [
    {
     "name": "stdout",
     "output_type": "stream",
     "text": [
      "CPU times: user 4 µs, sys: 1 µs, total: 5 µs\n",
      "Wall time: 7.87 µs\n"
     ]
    }
   ],
   "source": [
    "%%time\n",
    "\n",
    "def optimized_ema(data, window=200, delta=1):\n",
    "    # params\n",
    "    number = window\n",
    "    number_series = []\n",
    "    value_series = []\n",
    "    rate_series = []\n",
    "    for index in tqdm(range (0, data.shape[0], delta)):\n",
    "        if window <= index <= data.shape[0] - window:\n",
    "            temp_data = data[index - window: index + window]\n",
    "            best_ema = find_best_ma(temp_data, window)\n",
    "            if number != best_ema['number']:\n",
    "                number = best_ema['number']\n",
    "            if len(value_series) == 0:\n",
    "                value_series = best_ema['value']\n",
    "                rate_series = [best_ema['rate']] * len(best_ema['value'])\n",
    "                number_series = [best_ema['number']] * len(best_ema['value'])\n",
    "            else:\n",
    "                new_value = best_ema['value'].iloc[-1] # get last value from best_ema\n",
    "                new_value_series = pd.Series([new_value]*delta, index=[(value_series.index.max() + 1 + i) for i in range(0,delta)])\n",
    "                value_series = value_series.append(new_value_series)\n",
    "                rate_series.extend([best_ema['rate']]*delta)\n",
    "                number_series.extend([best_ema['number']]*delta)\n",
    "    return pd.DataFrame({'value': value_series, 'rate': rate_series, 'number': number_series})"
   ]
  },
  {
   "cell_type": "code",
   "execution_count": null,
   "outputs": [],
   "source": [
    "%%time\n",
    "ema = optimized_ema(data_df, window=200, delta=24)"
   ],
   "metadata": {
    "collapsed": false,
    "pycharm": {
     "name": "#%%\n",
     "is_executing": true
    }
   }
  },
  {
   "cell_type": "code",
   "execution_count": 111,
   "outputs": [
    {
     "data": {
      "text/plain": "          value    rate  number\n0           NaN  0.0175     124\n1           NaN  0.0175     124\n2           NaN  0.0175     124\n3           NaN  0.0175     124\n4           NaN  0.0175     124\n..          ...     ...     ...\n983  2466.39663  0.0000     200\n984  2466.39663  0.0000     200\n985  2466.39663  0.0000     200\n986  2466.39663  0.0000     200\n987  2466.39663  0.0000     200\n\n[988 rows x 3 columns]",
      "text/html": "<div>\n<style scoped>\n    .dataframe tbody tr th:only-of-type {\n        vertical-align: middle;\n    }\n\n    .dataframe tbody tr th {\n        vertical-align: top;\n    }\n\n    .dataframe thead th {\n        text-align: right;\n    }\n</style>\n<table border=\"1\" class=\"dataframe\">\n  <thead>\n    <tr style=\"text-align: right;\">\n      <th></th>\n      <th>value</th>\n      <th>rate</th>\n      <th>number</th>\n    </tr>\n  </thead>\n  <tbody>\n    <tr>\n      <th>0</th>\n      <td>NaN</td>\n      <td>0.0175</td>\n      <td>124</td>\n    </tr>\n    <tr>\n      <th>1</th>\n      <td>NaN</td>\n      <td>0.0175</td>\n      <td>124</td>\n    </tr>\n    <tr>\n      <th>2</th>\n      <td>NaN</td>\n      <td>0.0175</td>\n      <td>124</td>\n    </tr>\n    <tr>\n      <th>3</th>\n      <td>NaN</td>\n      <td>0.0175</td>\n      <td>124</td>\n    </tr>\n    <tr>\n      <th>4</th>\n      <td>NaN</td>\n      <td>0.0175</td>\n      <td>124</td>\n    </tr>\n    <tr>\n      <th>...</th>\n      <td>...</td>\n      <td>...</td>\n      <td>...</td>\n    </tr>\n    <tr>\n      <th>983</th>\n      <td>2466.39663</td>\n      <td>0.0000</td>\n      <td>200</td>\n    </tr>\n    <tr>\n      <th>984</th>\n      <td>2466.39663</td>\n      <td>0.0000</td>\n      <td>200</td>\n    </tr>\n    <tr>\n      <th>985</th>\n      <td>2466.39663</td>\n      <td>0.0000</td>\n      <td>200</td>\n    </tr>\n    <tr>\n      <th>986</th>\n      <td>2466.39663</td>\n      <td>0.0000</td>\n      <td>200</td>\n    </tr>\n    <tr>\n      <th>987</th>\n      <td>2466.39663</td>\n      <td>0.0000</td>\n      <td>200</td>\n    </tr>\n  </tbody>\n</table>\n<p>988 rows × 3 columns</p>\n</div>"
     },
     "execution_count": 111,
     "metadata": {},
     "output_type": "execute_result"
    }
   ],
   "source": [
    "ema"
   ],
   "metadata": {
    "collapsed": false,
    "pycharm": {
     "name": "#%%\n"
    }
   }
  },
  {
   "cell_type": "code",
   "execution_count": null,
   "metadata": {
    "pycharm": {
     "is_executing": true
    }
   },
   "outputs": [
    {
     "data": {
      "text/plain": "          value    rate  number\n0           NaN  0.0175     124\n1           NaN  0.0175     124\n2           NaN  0.0175     124\n3           NaN  0.0175     124\n4           NaN  0.0175     124\n..          ...     ...     ...\n983  2466.39663  0.0000     200\n984  2466.39663  0.0000     200\n985  2466.39663  0.0000     200\n986  2466.39663  0.0000     200\n987  2466.39663  0.0000     200\n\n[988 rows x 3 columns]",
      "text/html": "<div>\n<style scoped>\n    .dataframe tbody tr th:only-of-type {\n        vertical-align: middle;\n    }\n\n    .dataframe tbody tr th {\n        vertical-align: top;\n    }\n\n    .dataframe thead th {\n        text-align: right;\n    }\n</style>\n<table border=\"1\" class=\"dataframe\">\n  <thead>\n    <tr style=\"text-align: right;\">\n      <th></th>\n      <th>value</th>\n      <th>rate</th>\n      <th>number</th>\n    </tr>\n  </thead>\n  <tbody>\n    <tr>\n      <th>0</th>\n      <td>NaN</td>\n      <td>0.0175</td>\n      <td>124</td>\n    </tr>\n    <tr>\n      <th>1</th>\n      <td>NaN</td>\n      <td>0.0175</td>\n      <td>124</td>\n    </tr>\n    <tr>\n      <th>2</th>\n      <td>NaN</td>\n      <td>0.0175</td>\n      <td>124</td>\n    </tr>\n    <tr>\n      <th>3</th>\n      <td>NaN</td>\n      <td>0.0175</td>\n      <td>124</td>\n    </tr>\n    <tr>\n      <th>4</th>\n      <td>NaN</td>\n      <td>0.0175</td>\n      <td>124</td>\n    </tr>\n    <tr>\n      <th>...</th>\n      <td>...</td>\n      <td>...</td>\n      <td>...</td>\n    </tr>\n    <tr>\n      <th>983</th>\n      <td>2466.39663</td>\n      <td>0.0000</td>\n      <td>200</td>\n    </tr>\n    <tr>\n      <th>984</th>\n      <td>2466.39663</td>\n      <td>0.0000</td>\n      <td>200</td>\n    </tr>\n    <tr>\n      <th>985</th>\n      <td>2466.39663</td>\n      <td>0.0000</td>\n      <td>200</td>\n    </tr>\n    <tr>\n      <th>986</th>\n      <td>2466.39663</td>\n      <td>0.0000</td>\n      <td>200</td>\n    </tr>\n    <tr>\n      <th>987</th>\n      <td>2466.39663</td>\n      <td>0.0000</td>\n      <td>200</td>\n    </tr>\n  </tbody>\n</table>\n<p>988 rows × 3 columns</p>\n</div>"
     },
     "execution_count": 112,
     "metadata": {},
     "output_type": "execute_result"
    }
   ],
   "source": [
    "ema[ema['rate'] <= 0.2]\n"
   ]
  },
  {
   "cell_type": "code",
   "execution_count": 8,
   "outputs": [],
   "source": [
    "def run_strategy(data, best_ema):\n",
    "    joined_data = data.join(best_ema)\n",
    "    buy_condition = ((joined_data['value'] <= 0.995 * joined_data['open']) &\n",
    "            (joined_data['value'] >= joined_data['low']) &\n",
    "            (joined_data['rate'] <= 0.2))\n",
    "    sell_condition = (joined_data['value'] >= joined_data['close'])\n",
    "    joined_data.loc[buy_condition, 'buy'] = 1\n",
    "    joined_data.loc[sell_condition, 'sell'] = 1\n",
    "    return joined_data"
   ],
   "metadata": {
    "collapsed": false,
    "pycharm": {
     "name": "#%%\n"
    }
   }
  },
  {
   "cell_type": "code",
   "execution_count": 9,
   "outputs": [],
   "source": [
    "strategy_data=run_strategy(data_df, ema)\n",
    "strategy_data.to_csv('result/XBTUSD-1h-result.csv')"
   ],
   "metadata": {
    "collapsed": false,
    "pycharm": {
     "name": "#%%\n"
    }
   }
  },
  {
   "cell_type": "code",
   "execution_count": 10,
   "outputs": [],
   "source": [
    "def performance_report(data):\n",
    "    trade_history = []\n",
    "    round_trip = []\n",
    "    order = {}\n",
    "    for index, row in data.iterrows():\n",
    "        if row['buy'] == 1 and (len(trade_history) == 0 or trade_history[-1]['side'] != 'buy'):\n",
    "            trade_history.append({'time': row['timestamp'],'side': 'buy', 'price': row['value']})\n",
    "            order = {'start_time': row['timestamp'], 'entry': row['value'] }\n",
    "        if row['sell'] == 1 and len(trade_history) != 0 and trade_history[-1]['side'] != 'sell':\n",
    "            trade_history.append({'time': row['timestamp'],'side': 'sell', 'price': row['close']})\n",
    "            order['end_time'] = row['timestamp']\n",
    "            order['exit'] = row['close']\n",
    "            order['profit'] = round(100* (order['exit'] - order['entry'])/order['entry'],2)\n",
    "            round_trip.append(order)\n",
    "            order = {}\n",
    "    return pd.DataFrame(trade_history), pd.DataFrame(round_trip)"
   ],
   "metadata": {
    "collapsed": false,
    "pycharm": {
     "name": "#%%\n"
    }
   }
  },
  {
   "cell_type": "code",
   "execution_count": 11,
   "outputs": [
    {
     "name": "stdout",
     "output_type": "stream",
     "text": [
      "CPU times: user 3.23 s, sys: 48 ms, total: 3.28 s\n",
      "Wall time: 3.47 s\n"
     ]
    }
   ],
   "source": [
    "%%time\n",
    "th, rt = performance_report(strategy_data)"
   ],
   "metadata": {
    "collapsed": false,
    "pycharm": {
     "name": "#%%\n"
    }
   }
  },
  {
   "cell_type": "code",
   "execution_count": 12,
   "outputs": [],
   "source": [
    "th.to_csv('result/trade-history.csv', index=False)\n",
    "rt.to_csv('result/round-trip.csv', index=False)"
   ],
   "metadata": {
    "collapsed": false,
    "pycharm": {
     "name": "#%%\n"
    }
   }
  },
  {
   "cell_type": "code",
   "execution_count": 13,
   "outputs": [],
   "source": [
    "strategy_data.to_csv('result.csv', index=False)"
   ],
   "metadata": {
    "collapsed": false,
    "pycharm": {
     "name": "#%%\n"
    }
   }
  },
  {
   "cell_type": "code",
   "execution_count": 18,
   "metadata": {
    "scrolled": true
   },
   "outputs": [
    {
     "data": {
      "text/plain": "<Figure size 432x288 with 1 Axes>",
      "image/png": "[encoded data removed]"
     },
     "metadata": {
      "needs_background": "light"
     },
     "output_type": "display_data"
    }
   ],
   "source": [
    "# EMA = run_strategy(data_df)\n",
    "# print (EMA)\n",
    "# ema = talib.EMA(data_df['close'], timeperiod=EMA)\n",
    "\n",
    "plt.plot(ema['value'])\n",
    "# plt.plot(data_df[-365:-1]['high'])\n",
    "plt.plot(data_df['low'][-1000:].reset_index())\n",
    "# plt.plot(data_df[-365:-1]['low'])\n",
    "plt.show()"
   ]
  },
  {
   "cell_type": "code",
   "execution_count": null,
   "outputs": [],
   "source": [],
   "metadata": {
    "collapsed": false,
    "pycharm": {
     "name": "#%%\n",
     "is_executing": true
    }
   }
  },
  {
   "cell_type": "code",
   "execution_count": null,
   "metadata": {
    "pycharm": {
     "is_executing": true
    }
   },
   "outputs": [],
   "source": [
    "# python_candlestick_chart.py\n",
    "\n",
    "plt.style.use('ggplot')\n",
    "\n",
    "# Extracting Data for plotting\n",
    "ohlc = data_df.loc[:, ['timestamp', 'open', 'high', 'low', 'close']]\n",
    "ema = ema.loc[:, ['value', 'rate', 'number']]\n",
    "ohlc['timestamp'] = pd.to_datetime(ohlc['timestamp'])\n",
    "ohlc['timestamp'] = ohlc['timestamp'].apply(mpl_dates.date2num)\n",
    "ohlc = ohlc.astype(float)\n",
    "\n",
    "# Creating Subplots\n",
    "fig, ax = plt.subplots()\n",
    "\n",
    "candlestick_ohlc(ax, ohlc.values, width=5, colorup='green', colordown='red', alpha=0.8)\n",
    "\n",
    "# Setting labels & titles\n",
    "ax.set_xlabel('Date')\n",
    "ax.set_ylabel('Price')\n",
    "fig.suptitle('Daily Candlestick Chart of XBTUSD')\n",
    "\n",
    "# Formatting Date\n",
    "date_format = mpl_dates.DateFormatter('%d-%m-%Y')\n",
    "ax.xaxis.set_major_formatter(date_format)\n",
    "fig.autofmt_xdate()\n",
    "\n",
    "fig.tight_layout()\n",
    "plt.figure(figsize=(30, 40), dpi=200)\n",
    "\n",
    "plt.show()\n"
   ]
  },
  {
   "cell_type": "code",
   "execution_count": null,
   "metadata": {
    "pycharm": {
     "is_executing": true
    }
   },
   "outputs": [],
   "source": [
    "def performance_report(data, order_df):\n",
    "    total_profit = order_df['profit'].sum()\n",
    "    max_dd = order_df['draw_down_percent'].min()\n",
    "    max_ru = order_df['run_up_percent'].max()\n",
    "    num_win = order_df[order_df.profit >= 0].count().profit\n",
    "    num_loss = order_df[order_df.profit < 0].count().profit\n",
    "    total_win_profit = order_df[order_df.profit >= 0].sum().profit\n",
    "    total_loss_profit = order_df[order_df.profit < 0].sum().profit\n",
    "    ave_win = total_win_profit / num_win if num_win != 0 else 0\n",
    "    ave_loss = total_loss_profit / num_loss if num_loss != 0 else 0\n",
    "    win_rate = num_win / (num_win + num_loss)\n",
    "    start_price = data.iloc[100]['close']\n",
    "    end_price = data.iloc[-1]['close']\n",
    "    market = (end_price / start_price - 1) * 100\n",
    "    start_balance = 100\n",
    "    balance = start_balance * (1 + total_profit / 100)\n",
    "    relative_profit = balance - start_balance\n",
    "    relative_yearly_profit = relative_profit / 3\n",
    "    sharpe = 10\n",
    "    trades = order_df.shape[0] * 2\n",
    "\n",
    "    return {'profit': float(total_profit), 'max_dd': float(max_dd), 'max_ru': float(max_ru),\n",
    "            'num_win': int(num_win), 'num_loss': int(num_loss),\n",
    "            'total_win_profit': int(total_win_profit),\n",
    "            'total_loss_profit': int(total_loss_profit),\n",
    "            'ave_win': float(ave_win), 'ave_loss': float(ave_loss),\n",
    "            'win_rate': float(win_rate), 'balance': float(balance), 'startBalance': float(start_balance),\n",
    "            'relativeYearlyProfit': float(relative_yearly_profit), 'market': float(market), 'sharpe': float(sharpe),\n",
    "            'trades': int(trades), 'startPrice': start_price, 'endPrice': end_price, 'relativeProfit': relative_profit}"
   ]
  },
  {
   "cell_type": "code",
   "execution_count": null,
   "metadata": {
    "pycharm": {
     "name": "#%%\n",
     "is_executing": true
    }
   },
   "outputs": [],
   "source": [
    "## Start download-data\n",
    "pairs = ['XBTUSD', 'ETHUSDT', 'DOTUSDT', 'EOSUSDT', 'ADAUSDT' ]\n",
    "timeframes = ['1d']"
   ]
  },
  {
   "cell_type": "code",
   "execution_count": null,
   "outputs": [],
   "source": [
    "%%time\n",
    "for pair in pairs:\n",
    "    for t in timeframes:\n",
    "        print ('Processing {p} with timeframe {t}'.format(p=pair, t=t))\n",
    "        data_df = pd.read_csv(\"data/{p}-{t}-data.csv\".format(p=pair, t=t))\n",
    "        ema = optimized_ema(data_df, window=200, delta=7)\n",
    "        strategy=run_strategy(data_df, ema)\n",
    "        th, rt = performance_report(strategy)\n",
    "        strategy.to_csv('result/{p}-{t}-strategy-data'.format(p=pair, t=t), index=False)\n",
    "        th.to_csv('result/{p}-{t}-trade-history.csv'.format(p=pair, t=t), index=False)\n",
    "        rt.to_csv('result/{p}-{t}-round-trip.csv'.format(p=pair, t=t), index=False)\n"
   ],
   "metadata": {
    "collapsed": false,
    "pycharm": {
     "name": "#%%\n",
     "is_executing": true
    }
   }
  },
  {
   "cell_type": "code",
   "execution_count": null,
   "outputs": [],
   "source": [
    "df = pd.DataFrame({'value': [1,2,3,4,5,6,7,8,9]})"
   ],
   "metadata": {
    "collapsed": false,
    "pycharm": {
     "name": "#%%\n",
     "is_executing": true
    }
   }
  },
  {
   "cell_type": "code",
   "execution_count": null,
   "outputs": [],
   "source": [
    "df[df['value'].shift(-1) == 5]"
   ],
   "metadata": {
    "collapsed": false,
    "pycharm": {
     "name": "#%%\n",
     "is_executing": true
    }
   }
  }
 ],
 "metadata": {
  "kernelspec": {
   "display_name": "venv",
   "language": "python",
   "name": "venv"
  },
  "language_info": {
   "codemirror_mode": {
    "name": "ipython",
    "version": 3
   },
   "file_extension": ".py",
   "mimetype": "text/x-python",
   "name": "python",
   "nbconvert_exporter": "python",
   "pygments_lexer": "ipython3",
   "version": "3.8.6"
  }
 },
 "nbformat": 4,
 "nbformat_minor": 1
}